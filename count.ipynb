{
 "cells": [
  {
   "cell_type": "code",
   "execution_count": 1,
   "id": "3ea09e64",
   "metadata": {},
   "outputs": [
    {
     "name": "stdout",
     "output_type": "stream",
     "text": [
      "original_label/airplane: 2000\n",
      "original_label/automobile: 2000\n",
      "original_label/bird: 2000\n",
      "original_label/cat: 2000\n",
      "original_label/deer: 2000\n",
      "original_label/dog: 2000\n",
      "original_label/frog: 2000\n",
      "original_label/horse: 2000\n",
      "original_label/ship: 2000\n",
      "original_label/truck: 2000\n",
      "random_label/airplane: 1955\n",
      "random_label/automobile: 1947\n",
      "random_label/bird: 2047\n",
      "random_label/cat: 2143\n",
      "random_label/deer: 1968\n",
      "random_label/dog: 1996\n",
      "random_label/frog: 2024\n",
      "random_label/horse: 1936\n",
      "random_label/ship: 1979\n",
      "random_label/truck: 2005\n"
     ]
    }
   ],
   "source": [
    "import os\n",
    "\n",
    "class_names = ['airplane', 'automobile', 'bird', 'cat', 'deer', 'dog', 'frog', 'horse', 'ship', 'truck']\n",
    "\n",
    "train_random_dir = os.path.join(os.getcwd(), 'train_random')\n",
    "\n",
    "for folder in ['original_label', 'random_label']:\n",
    "    for class_name in class_names:\n",
    "        folder_path = os.path.join(train_random_dir, folder, class_name)\n",
    "        if os.path.isdir(folder_path):\n",
    "            num_images = len(os.listdir(folder_path))\n",
    "            print(f\"{folder}/{class_name}: {num_images}\")\n",
    "        else:\n",
    "            print(f\"{folder}/{class_name}: Folder not found\")"
   ]
  },
  {
   "cell_type": "code",
   "execution_count": 2,
   "id": "7e741149",
   "metadata": {},
   "outputs": [
    {
     "name": "stdout",
     "output_type": "stream",
     "text": [
      "All images have been moved to the train folder.\n"
     ]
    }
   ],
   "source": [
    "import os\n",
    "import shutil\n",
    "\n",
    "# 클래스 이름 리스트\n",
    "class_names = ['airplane', 'automobile', 'bird', 'cat', 'deer', 'dog', 'frog', 'horse', 'ship', 'truck']\n",
    "\n",
    "# 현재 작업 디렉토리\n",
    "current_dir = os.getcwd()\n",
    "\n",
    "# 원본 및 랜덤 라벨 데이터 폴더 경로\n",
    "train_random_dir = os.path.join(current_dir, 'train_random')\n",
    "original_dir = os.path.join(train_random_dir, 'original_label')\n",
    "random_label_dir = os.path.join(train_random_dir, 'random_label')\n",
    "\n",
    "# 최종 이동할 train 폴더 경로\n",
    "train_dir = os.path.join(current_dir, 'train')\n",
    "os.makedirs(train_dir, exist_ok=True)\n",
    "\n",
    "# 클래스별 폴더 생성\n",
    "for class_name in class_names:\n",
    "    class_folder = os.path.join(train_dir, class_name)\n",
    "    os.makedirs(class_folder, exist_ok=True)\n",
    "\n",
    "# original 폴더 내의 이미지 이동\n",
    "for class_name in class_names:\n",
    "    original_class_dir = os.path.join(original_dir, class_name)\n",
    "    target_class_dir = os.path.join(train_dir, class_name)\n",
    "    if os.path.exists(original_class_dir):\n",
    "        for filename in os.listdir(original_class_dir):\n",
    "            shutil.copy(os.path.join(original_class_dir, filename), target_class_dir)\n",
    "\n",
    "# random_label 폴더 내의 이미지 이동\n",
    "for class_name in class_names:\n",
    "    random_label_class_dir = os.path.join(random_label_dir, class_name)\n",
    "    target_class_dir = os.path.join(train_dir, class_name)\n",
    "    if os.path.exists(random_label_class_dir):\n",
    "        for filename in os.listdir(random_label_class_dir):\n",
    "            shutil.copy(os.path.join(random_label_class_dir, filename), target_class_dir)\n",
    "\n",
    "print(\"All images have been moved to the train folder.\")"
   ]
  },
  {
   "cell_type": "code",
   "execution_count": 3,
   "id": "9a199cd8",
   "metadata": {},
   "outputs": [
    {
     "name": "stdout",
     "output_type": "stream",
     "text": [
      "airplane: 3955\n",
      "automobile: 3947\n",
      "bird: 4047\n",
      "cat: 4143\n",
      "deer: 3968\n",
      "dog: 3996\n",
      "frog: 4024\n",
      "horse: 3936\n",
      "ship: 3979\n",
      "truck: 4005\n"
     ]
    }
   ],
   "source": [
    "import os\n",
    "\n",
    "class_names = ['airplane', 'automobile', 'bird', 'cat', 'deer', 'dog', 'frog', 'horse', 'ship', 'truck']\n",
    "\n",
    "train_random_dir = os.path.join(os.getcwd(), 'train')\n",
    "\n",
    "for class_name in class_names:\n",
    "    folder_path = os.path.join(train_random_dir, class_name)\n",
    "    if os.path.isdir(folder_path):\n",
    "        num_images = len(os.listdir(folder_path))\n",
    "        print(f\"{class_name}: {num_images}\")\n",
    "    else:\n",
    "        print(f\"{class_name}: Folder not found\")"
   ]
  },
  {
   "cell_type": "code",
   "execution_count": 4,
   "id": "d834fd74",
   "metadata": {},
   "outputs": [
    {
     "name": "stdout",
     "output_type": "stream",
     "text": [
      "airplane: 2000\n",
      "automobile: 2000\n",
      "bird: 2000\n",
      "cat: 2000\n",
      "deer: 2000\n",
      "dog: 2000\n",
      "frog: 2000\n",
      "horse: 2000\n",
      "ship: 2000\n",
      "truck: 2000\n"
     ]
    }
   ],
   "source": [
    "import os\n",
    "\n",
    "class_names = ['airplane', 'automobile', 'bird', 'cat', 'deer', 'dog', 'frog', 'horse', 'ship', 'truck']\n",
    "\n",
    "train_random_dir = os.path.join(os.getcwd(), 'train_random/original_label')\n",
    "\n",
    "for class_name in class_names:\n",
    "    folder_path = os.path.join(train_random_dir, class_name)\n",
    "    if os.path.isdir(folder_path):\n",
    "        num_images = len(os.listdir(folder_path))\n",
    "        print(f\"{class_name}: {num_images}\")\n",
    "    else:\n",
    "        print(f\"{class_name}: Folder not found\")"
   ]
  },
  {
   "cell_type": "code",
   "execution_count": 5,
   "id": "47adf676",
   "metadata": {},
   "outputs": [
    {
     "name": "stdout",
     "output_type": "stream",
     "text": [
      "airplane: 1955\n",
      "automobile: 1947\n",
      "bird: 2047\n",
      "cat: 2143\n",
      "deer: 1968\n",
      "dog: 1996\n",
      "frog: 2024\n",
      "horse: 1936\n",
      "ship: 1979\n",
      "truck: 2005\n"
     ]
    }
   ],
   "source": [
    "import os\n",
    "\n",
    "class_names = ['airplane', 'automobile', 'bird', 'cat', 'deer', 'dog', 'frog', 'horse', 'ship', 'truck']\n",
    "\n",
    "train_random_dir = os.path.join(os.getcwd(), 'train_random/random_label')\n",
    "\n",
    "for class_name in class_names:\n",
    "    folder_path = os.path.join(train_random_dir, class_name)\n",
    "    if os.path.isdir(folder_path):\n",
    "        num_images = len(os.listdir(folder_path))\n",
    "        print(f\"{class_name}: {num_images}\")\n",
    "    else:\n",
    "        print(f\"{class_name}: Folder not found\")"
   ]
  },
  {
   "cell_type": "code",
   "execution_count": null,
   "id": "e9242f2d",
   "metadata": {},
   "outputs": [],
   "source": []
  }
 ],
 "metadata": {
  "kernelspec": {
   "display_name": "Python 3 (ipykernel)",
   "language": "python",
   "name": "python3"
  },
  "language_info": {
   "codemirror_mode": {
    "name": "ipython",
    "version": 3
   },
   "file_extension": ".py",
   "mimetype": "text/x-python",
   "name": "python",
   "nbconvert_exporter": "python",
   "pygments_lexer": "ipython3",
   "version": "3.8.8"
  }
 },
 "nbformat": 4,
 "nbformat_minor": 5
}
